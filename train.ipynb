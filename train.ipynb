{
 "cells": [
  {
   "cell_type": "code",
   "execution_count": 2,
   "metadata": {},
   "outputs": [],
   "source": [
    "import argparse\n",
    "import torch\n",
    "\n",
    "import train\n",
    "import generate"
   ]
  },
  {
   "cell_type": "code",
   "execution_count": null,
   "metadata": {},
   "outputs": [
    {
     "name": "stderr",
     "output_type": "stream",
     "text": [
      "/pytorch/torch/csrc/utils/python_arg_parser.cpp:756: UserWarning: This overload of add_ is deprecated:\n",
      "\tadd_(Number alpha, Tensor other)\n",
      "Consider using one of the following signatures instead:\n",
      "\tadd_(Tensor other, *, Number alpha)\n"
     ]
    },
    {
     "name": "stdout",
     "output_type": "stream",
     "text": [
      "load model: checkpoint/576500.pt\n"
     ]
    },
    {
     "name": "stderr",
     "output_type": "stream",
     "text": [
      "d: 1.3528; g: 0.6164; r1: 0.0003; path: 0.0036; mean path: 0.0043:  72%|███████▏  | 576532/800000 [07:43<2543:24:08, 40.97s/it] "
     ]
    }
   ],
   "source": [
    "# train\n",
    "device = 'cuda'\n",
    "\n",
    "args = argparse.Namespace()\n",
    "args.path = '/home/ec2-user/SageMaker/images_brazil_lmdb'\n",
    "args.iter = 800000\n",
    "args.batch = 4\n",
    "args.n_sample = 25\n",
    "args.size = 256\n",
    "args.r1 = 10\n",
    "args.path_regularize = 2\n",
    "args.path_batch_shrink = 2\n",
    "args.d_reg_every = 16\n",
    "args.g_reg_every = 4\n",
    "args.mixing = 0.9\n",
    "args.ckpt = 'checkpoint/576500.pt'\n",
    "args.lr = 0.002\n",
    "args.channel_multiplier = 2\n",
    "args.wandb = False\n",
    "args.local_rank = 0\n",
    "\n",
    "args.save_ckpt_every = 100\n",
    "args.save_sample_every = 10\n",
    "args.name = 'v1'\n",
    "\n",
    "train.setup_and_run(device, args)"
   ]
  },
  {
   "cell_type": "code",
   "execution_count": 3,
   "metadata": {},
   "outputs": [
    {
     "name": "stderr",
     "output_type": "stream",
     "text": [
      "100%|██████████| 3/3 [00:00<00:00,  7.37it/s]\n"
     ]
    }
   ],
   "source": [
    "# generate\n",
    "device = 'cuda'\n",
    "\n",
    "args = argparse.Namespace()\n",
    "args.size = 256\n",
    "args.sample = 1\n",
    "args.pics = 3\n",
    "args.truncation = 1\n",
    "args.truncation_mean = 4096\n",
    "args.ckpt = 'checkpoint/576500.pt'\n",
    "args.channel_multiplier = 2\n",
    "\n",
    "args.latent = 512\n",
    "args.n_mlp = 8\n",
    "\n",
    "g_ema = generate.Generator(\n",
    "    args.size, args.latent, args.n_mlp, channel_multiplier=args.channel_multiplier\n",
    ").to(device)\n",
    "checkpoint = torch.load(args.ckpt)\n",
    "\n",
    "g_ema.load_state_dict(checkpoint['g_ema'], strict=False)\n",
    "\n",
    "if args.truncation < 1:\n",
    "    with torch.no_grad():\n",
    "        mean_latent = g_ema.mean_latent(args.truncation_mean)\n",
    "else:\n",
    "    mean_latent = None\n",
    "\n",
    "generate.generate(args, g_ema, device, mean_latent)\n"
   ]
  },
  {
   "cell_type": "code",
   "execution_count": null,
   "metadata": {},
   "outputs": [],
   "source": []
  }
 ],
 "metadata": {
  "kernelspec": {
   "display_name": "conda_pytorch_p36",
   "language": "python",
   "name": "conda_pytorch_p36"
  },
  "language_info": {
   "codemirror_mode": {
    "name": "ipython",
    "version": 3
   },
   "file_extension": ".py",
   "mimetype": "text/x-python",
   "name": "python",
   "nbconvert_exporter": "python",
   "pygments_lexer": "ipython3",
   "version": "3.6.5"
  }
 },
 "nbformat": 4,
 "nbformat_minor": 4
}
